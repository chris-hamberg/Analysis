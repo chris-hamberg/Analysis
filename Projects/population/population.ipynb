{
 "cells": [
  {
   "cell_type": "markdown",
   "metadata": {},
   "source": [
    "# Population Change Analysis\n",
    "data source: <a href='pop_change.csv'>www.census.gov</a>"
   ]
  },
  {
   "cell_type": "code",
   "execution_count": 84,
   "metadata": {},
   "outputs": [],
   "source": [
    "import pandas as pd"
   ]
  },
  {
   "cell_type": "markdown",
   "metadata": {},
   "source": [
    "<h3>Import data to DataFrame, and show head</h3>"
   ]
  },
  {
   "cell_type": "code",
   "execution_count": 85,
   "metadata": {},
   "outputs": [
    {
     "data": {
      "text/html": [
       "<div>\n",
       "<style scoped>\n",
       "    .dataframe tbody tr th:only-of-type {\n",
       "        vertical-align: middle;\n",
       "    }\n",
       "\n",
       "    .dataframe tbody tr th {\n",
       "        vertical-align: top;\n",
       "    }\n",
       "\n",
       "    .dataframe thead th {\n",
       "        text-align: right;\n",
       "    }\n",
       "</style>\n",
       "<table border=\"1\" class=\"dataframe\">\n",
       "  <thead>\n",
       "    <tr style=\"text-align: right;\">\n",
       "      <th></th>\n",
       "      <th>STATE_OR_REGION</th>\n",
       "      <th>1910_POPULATION</th>\n",
       "      <th>1920_POPULATION</th>\n",
       "      <th>1930_POPULATION</th>\n",
       "      <th>1940_POPULATION</th>\n",
       "      <th>1950_POPULATION</th>\n",
       "      <th>1960_POPULATION</th>\n",
       "      <th>1970_POPULATION</th>\n",
       "      <th>1980_POPULATION</th>\n",
       "      <th>1990_POPULATION</th>\n",
       "      <th>...</th>\n",
       "      <th>1920_CHANGE</th>\n",
       "      <th>1930_CHANGE</th>\n",
       "      <th>1940_CHANGE</th>\n",
       "      <th>1950_CHANGE</th>\n",
       "      <th>1960_CHANGE</th>\n",
       "      <th>1970_CHANGE</th>\n",
       "      <th>1980_CHANGE</th>\n",
       "      <th>1990_CHANGE</th>\n",
       "      <th>2000_CHANGE</th>\n",
       "      <th>2010_CHANGE</th>\n",
       "    </tr>\n",
       "  </thead>\n",
       "  <tbody>\n",
       "    <tr>\n",
       "      <th>0</th>\n",
       "      <td>United States</td>\n",
       "      <td>92228531</td>\n",
       "      <td>106021568</td>\n",
       "      <td>123202660</td>\n",
       "      <td>132165129</td>\n",
       "      <td>151325798</td>\n",
       "      <td>179323175</td>\n",
       "      <td>203211926</td>\n",
       "      <td>226545805</td>\n",
       "      <td>248709873</td>\n",
       "      <td>...</td>\n",
       "      <td>15.0</td>\n",
       "      <td>16.2</td>\n",
       "      <td>7.3</td>\n",
       "      <td>14.5</td>\n",
       "      <td>18.5</td>\n",
       "      <td>13.3</td>\n",
       "      <td>11.5</td>\n",
       "      <td>9.8</td>\n",
       "      <td>13.2</td>\n",
       "      <td>9.7</td>\n",
       "    </tr>\n",
       "    <tr>\n",
       "      <th>1</th>\n",
       "      <td>Northeast</td>\n",
       "      <td>25868573</td>\n",
       "      <td>29662053</td>\n",
       "      <td>34427091</td>\n",
       "      <td>35976777</td>\n",
       "      <td>39477986</td>\n",
       "      <td>44677819</td>\n",
       "      <td>49040703</td>\n",
       "      <td>49135283</td>\n",
       "      <td>50809229</td>\n",
       "      <td>...</td>\n",
       "      <td>14.7</td>\n",
       "      <td>16.1</td>\n",
       "      <td>4.5</td>\n",
       "      <td>9.7</td>\n",
       "      <td>13.2</td>\n",
       "      <td>9.8</td>\n",
       "      <td>0.2</td>\n",
       "      <td>3.4</td>\n",
       "      <td>5.5</td>\n",
       "      <td>3.2</td>\n",
       "    </tr>\n",
       "    <tr>\n",
       "      <th>2</th>\n",
       "      <td>Midwest</td>\n",
       "      <td>29888542</td>\n",
       "      <td>34019792</td>\n",
       "      <td>38594100</td>\n",
       "      <td>40143332</td>\n",
       "      <td>44460762</td>\n",
       "      <td>51619139</td>\n",
       "      <td>56571663</td>\n",
       "      <td>58865670</td>\n",
       "      <td>59668632</td>\n",
       "      <td>...</td>\n",
       "      <td>13.8</td>\n",
       "      <td>13.4</td>\n",
       "      <td>4.0</td>\n",
       "      <td>10.8</td>\n",
       "      <td>16.1</td>\n",
       "      <td>9.6</td>\n",
       "      <td>4.1</td>\n",
       "      <td>1.4</td>\n",
       "      <td>7.9</td>\n",
       "      <td>3.9</td>\n",
       "    </tr>\n",
       "    <tr>\n",
       "      <th>3</th>\n",
       "      <td>South</td>\n",
       "      <td>29389330</td>\n",
       "      <td>33125803</td>\n",
       "      <td>37857633</td>\n",
       "      <td>41665901</td>\n",
       "      <td>47197088</td>\n",
       "      <td>54973113</td>\n",
       "      <td>62795367</td>\n",
       "      <td>75372362</td>\n",
       "      <td>85445930</td>\n",
       "      <td>...</td>\n",
       "      <td>12.7</td>\n",
       "      <td>14.3</td>\n",
       "      <td>10.1</td>\n",
       "      <td>13.3</td>\n",
       "      <td>16.5</td>\n",
       "      <td>14.2</td>\n",
       "      <td>20.0</td>\n",
       "      <td>13.4</td>\n",
       "      <td>17.3</td>\n",
       "      <td>14.3</td>\n",
       "    </tr>\n",
       "    <tr>\n",
       "      <th>4</th>\n",
       "      <td>West</td>\n",
       "      <td>7082086</td>\n",
       "      <td>9213920</td>\n",
       "      <td>12323836</td>\n",
       "      <td>14379119</td>\n",
       "      <td>20189962</td>\n",
       "      <td>28053104</td>\n",
       "      <td>34804193</td>\n",
       "      <td>43172490</td>\n",
       "      <td>52786082</td>\n",
       "      <td>...</td>\n",
       "      <td>30.1</td>\n",
       "      <td>33.8</td>\n",
       "      <td>16.7</td>\n",
       "      <td>40.4</td>\n",
       "      <td>38.9</td>\n",
       "      <td>24.1</td>\n",
       "      <td>24.0</td>\n",
       "      <td>22.3</td>\n",
       "      <td>19.7</td>\n",
       "      <td>13.8</td>\n",
       "    </tr>\n",
       "  </tbody>\n",
       "</table>\n",
       "<p>5 rows × 23 columns</p>\n",
       "</div>"
      ],
      "text/plain": [
       "  STATE_OR_REGION  1910_POPULATION  1920_POPULATION  1930_POPULATION  \\\n",
       "0   United States         92228531        106021568        123202660   \n",
       "1       Northeast         25868573         29662053         34427091   \n",
       "2         Midwest         29888542         34019792         38594100   \n",
       "3           South         29389330         33125803         37857633   \n",
       "4            West          7082086          9213920         12323836   \n",
       "\n",
       "   1940_POPULATION  1950_POPULATION  1960_POPULATION  1970_POPULATION  \\\n",
       "0        132165129        151325798        179323175        203211926   \n",
       "1         35976777         39477986         44677819         49040703   \n",
       "2         40143332         44460762         51619139         56571663   \n",
       "3         41665901         47197088         54973113         62795367   \n",
       "4         14379119         20189962         28053104         34804193   \n",
       "\n",
       "   1980_POPULATION  1990_POPULATION  ...  1920_CHANGE  1930_CHANGE  \\\n",
       "0        226545805        248709873  ...         15.0         16.2   \n",
       "1         49135283         50809229  ...         14.7         16.1   \n",
       "2         58865670         59668632  ...         13.8         13.4   \n",
       "3         75372362         85445930  ...         12.7         14.3   \n",
       "4         43172490         52786082  ...         30.1         33.8   \n",
       "\n",
       "   1940_CHANGE  1950_CHANGE  1960_CHANGE  1970_CHANGE  1980_CHANGE  \\\n",
       "0          7.3         14.5         18.5         13.3         11.5   \n",
       "1          4.5          9.7         13.2          9.8          0.2   \n",
       "2          4.0         10.8         16.1          9.6          4.1   \n",
       "3         10.1         13.3         16.5         14.2         20.0   \n",
       "4         16.7         40.4         38.9         24.1         24.0   \n",
       "\n",
       "   1990_CHANGE  2000_CHANGE  2010_CHANGE  \n",
       "0          9.8         13.2          9.7  \n",
       "1          3.4          5.5          3.2  \n",
       "2          1.4          7.9          3.9  \n",
       "3         13.4         17.3         14.3  \n",
       "4         22.3         19.7         13.8  \n",
       "\n",
       "[5 rows x 23 columns]"
      ]
     },
     "execution_count": 85,
     "metadata": {},
     "output_type": "execute_result"
    }
   ],
   "source": [
    "dfile = 'pop_change.csv'\n",
    "df = pd.read_csv(dfile, header=[2])\n",
    "df.head()"
   ]
  },
  {
   "cell_type": "code",
   "execution_count": 86,
   "metadata": {},
   "outputs": [],
   "source": [
    "subset = pd.DataFrame(df['STATE_OR_REGION']).join(df[df.columns[16:22]])"
   ]
  },
  {
   "cell_type": "code",
   "execution_count": 88,
   "metadata": {},
   "outputs": [],
   "source": [
    "cumulative = [(subset.iloc[i,1:].sum(), subset.iloc[i][0]) for i in range(len(subset))] "
   ]
  },
  {
   "cell_type": "code",
   "execution_count": 107,
   "metadata": {},
   "outputs": [],
   "source": [
    "template = '{location} had {change:.1f} change in population.' "
   ]
  },
  {
   "cell_type": "markdown",
   "metadata": {},
   "source": [
    "# Extrema for Regional Growth\n",
    "- <em>from 1950 to 2000</em>"
   ]
  },
  {
   "cell_type": "code",
   "execution_count": 108,
   "metadata": {},
   "outputs": [
    {
     "name": "stdout",
     "output_type": "stream",
     "text": [
      "West had 169.4 change in population.\n"
     ]
    }
   ],
   "source": [
    "change, location = max(cumulative[1:5])\n",
    "print(template.format_map(vars()))"
   ]
  },
  {
   "cell_type": "code",
   "execution_count": 109,
   "metadata": {},
   "outputs": [
    {
     "name": "stdout",
     "output_type": "stream",
     "text": [
      "Northeast had 41.8 change in population.\n"
     ]
    }
   ],
   "source": [
    "change, location = min(cumulative[1:5])\n",
    "print(template.format_map(vars())) "
   ]
  },
  {
   "cell_type": "markdown",
   "metadata": {},
   "source": [
    "# Extrema by State\n",
    "- <em>from 1950 to 2000</em>"
   ]
  },
  {
   "cell_type": "code",
   "execution_count": 111,
   "metadata": {},
   "outputs": [
    {
     "name": "stdout",
     "output_type": "stream",
     "text": [
      "Nevada had 374.9 change in population.\n"
     ]
    }
   ],
   "source": [
    "change, location = max(cumulative[5:])\n",
    "print(template.format_map(vars())) "
   ]
  },
  {
   "cell_type": "code",
   "execution_count": 112,
   "metadata": {},
   "outputs": [
    {
     "name": "stdout",
     "output_type": "stream",
     "text": [
      "District of Columbia had -11.0 change in population.\n"
     ]
    }
   ],
   "source": [
    "change, location = min(cumulative[5:])\n",
    "print(template.format_map(vars()))"
   ]
  }
 ],
 "metadata": {
  "kernelspec": {
   "display_name": "Python 3",
   "language": "python",
   "name": "python3"
  },
  "language_info": {
   "codemirror_mode": {
    "name": "ipython",
    "version": 3
   },
   "file_extension": ".py",
   "mimetype": "text/x-python",
   "name": "python",
   "nbconvert_exporter": "python",
   "pygments_lexer": "ipython3",
   "version": "3.7.2"
  }
 },
 "nbformat": 4,
 "nbformat_minor": 2
}
