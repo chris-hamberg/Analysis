{
 "cells": [
  {
   "cell_type": "markdown",
   "metadata": {},
   "source": [
    "# System log analysis\n",
    "\n",
    "- using Numpy nd-array\n",
    "\n",
    "data source: <a href='chapter2-data.txt'>log_file</a>"
   ]
  },
  {
   "cell_type": "code",
   "execution_count": 35,
   "metadata": {},
   "outputs": [],
   "source": [
    "from collections import Counter\n",
    "from pprint import pprint\n",
    "import numpy as np\n",
    "import csv"
   ]
  },
  {
   "cell_type": "markdown",
   "metadata": {},
   "source": [
    "<h3>Load the system log and transform to a 2d-matrix</h3>"
   ]
  },
  {
   "cell_type": "code",
   "execution_count": 73,
   "metadata": {},
   "outputs": [],
   "source": [
    "matrix = []\n",
    "\n",
    "dfile = 'chapter2-data.txt'\n",
    "with open(dfile) as fhand:\n",
    "    reader = csv.reader(fhand, delimiter='\\t')\n",
    "    for row in reader:\n",
    "        matrix.append(np.array(row)) \n",
    "        \n",
    "matrix = np.array(matrix)"
   ]
  },
  {
   "cell_type": "markdown",
   "metadata": {},
   "source": [
    "<h3>feature headings</h3>"
   ]
  },
  {
   "cell_type": "code",
   "execution_count": 74,
   "metadata": {},
   "outputs": [
    {
     "name": "stdout",
     "output_type": "stream",
     "text": [
      "features: ['userId' 'Device' 'OS' 'sex' 'provinceID']\n"
     ]
    }
   ],
   "source": [
    "print(f'features: {matrix[0]}')"
   ]
  },
  {
   "cell_type": "markdown",
   "metadata": {},
   "source": [
    "<h3>The frequency for each device type</h3>"
   ]
  },
  {
   "cell_type": "code",
   "execution_count": 36,
   "metadata": {},
   "outputs": [
    {
     "name": "stdout",
     "output_type": "stream",
     "text": [
      "Counter({'General_Desktop': 341, 'General_Mobile': 130, 'General_Tablet': 29})\n"
     ]
    }
   ],
   "source": [
    "devices = matrix[:,1][1:]\n",
    "count = Counter(devices)\n",
    "pprint(count) "
   ]
  },
  {
   "cell_type": "markdown",
   "metadata": {},
   "source": [
    "<h3>Unique OS that appears in log</h3>"
   ]
  },
  {
   "cell_type": "code",
   "execution_count": 48,
   "metadata": {},
   "outputs": [
    {
     "name": "stdout",
     "output_type": "stream",
     "text": [
      "['Symbian OS', 'Nokia Series 40', 'Other', 'Ubuntu', 'MeeGo']\n"
     ]
    }
   ],
   "source": [
    "OS = matrix[1:][:,2]\n",
    "count = Counter(OS)\n",
    "pprint(list(os_sys for os_sys, freq in count.items() if freq is 1)) "
   ]
  },
  {
   "cell_type": "markdown",
   "metadata": {},
   "source": [
    "<h3>Count number of users by provinceID</h3>"
   ]
  },
  {
   "cell_type": "code",
   "execution_count": 76,
   "metadata": {},
   "outputs": [
    {
     "name": "stdout",
     "output_type": "stream",
     "text": [
      "provinceID: 0000 has 51 users\n",
      "provinceID: 0001 has 1 users\n",
      "provinceID: 0002 has 3 users\n",
      "provinceID: 0003 has 2 users\n",
      "provinceID: 0006 has 2 users\n",
      "provinceID: 0007 has 1 users\n",
      "provinceID: 0008 has 1 users\n",
      "provinceID: 0009 has 2 users\n",
      "provinceID: 0013 has 6 users\n",
      "provinceID: 0015 has 5 users\n",
      "provinceID: 0016 has 1 users\n",
      "provinceID: 0019 has 1 users\n",
      "provinceID: 0024 has 226 users\n",
      "provinceID: 0025 has 3 users\n",
      "provinceID: 0027 has 4 users\n",
      "provinceID: 0029 has 132 users\n",
      "provinceID: 0031 has 1 users\n",
      "provinceID: 0032 has 2 users\n",
      "provinceID: 0033 has 1 users\n",
      "provinceID: 0034 has 1 users\n",
      "provinceID: 0037 has 1 users\n",
      "provinceID: 0038 has 1 users\n",
      "provinceID: 0047 has 8 users\n",
      "provinceID: 0048 has 1 users\n",
      "provinceID: 0049 has 1 users\n",
      "provinceID: 0055 has 2 users\n",
      "provinceID: 0056 has 2 users\n",
      "provinceID: 0057 has 2 users\n",
      "provinceID: 0058 has 2 users\n",
      "provinceID: 0059 has 1 users\n",
      "provinceID: 0061 has 1 users\n",
      "provinceID: 9999 has 32 users\n"
     ]
    }
   ],
   "source": [
    "matrix[1:,-1].sort()\n",
    "count = Counter(matrix[1:,-1])\n",
    "for province in map(str, sorted(map(int, count.keys()))):\n",
    "    print(f'provinceID: {province.zfill(4)} has {count[province]} users') "
   ]
  }
 ],
 "metadata": {
  "kernelspec": {
   "display_name": "Python 3",
   "language": "python",
   "name": "python3"
  },
  "language_info": {
   "codemirror_mode": {
    "name": "ipython",
    "version": 3
   },
   "file_extension": ".py",
   "mimetype": "text/x-python",
   "name": "python",
   "nbconvert_exporter": "python",
   "pygments_lexer": "ipython3",
   "version": "3.7.2"
  }
 },
 "nbformat": 4,
 "nbformat_minor": 2
}
